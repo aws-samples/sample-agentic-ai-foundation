{
 "cells": [
  {
   "cell_type": "markdown",
   "metadata": {},
   "source": [
    "# LangGraph Agent Deployment to Amazon Bedrock AgentCore\n",
    "\n",
    "This notebook demonstrates how to deploy a FastAPI LangGraph agent to Amazon Bedrock AgentCore Runtime and invoke it.\n",
    "\n",
    "It's tested to run in the Python virtual environment created in `cx-agent-backend`"
   ]
  },
  {
   "cell_type": "markdown",
   "metadata": {},
   "source": [
    "## Prerequisites\n",
    "\n",
    "1. AWS CLI configured with appropriate permissions\n",
    "2. Docker installed with ARM64 support\n",
    "3. ECR repository created\n",
    "4. Agent runtime IAM role created"
   ]
  },
  {
   "cell_type": "code",
   "execution_count": null,
   "metadata": {},
   "outputs": [],
   "source": [
    "import boto3\n",
    "import uuid\n",
    "import os"
   ]
  },
  {
   "cell_type": "markdown",
   "metadata": {},
   "source": [
    "## Configuration"
   ]
  },
  {
   "cell_type": "code",
   "execution_count": null,
   "metadata": {},
   "outputs": [],
   "source": [
    "# Configuration\n",
    "AWS_REGION = os.environ.get(\"AWS_REGION\", os.environ.get(\"AWS_DEFAULT_REGION\", \"us-east-1\"))\n",
    "AWS_ACCOUNT_ID = boto3.client('sts').get_caller_identity()['Account']\n",
    "ECR_REPOSITORY = \"langgraph-cx-agent\"\n",
    "IMAGE_TAG = \"latest\"\n",
    "ECR_URI = f\"{AWS_ACCOUNT_ID}.dkr.ecr.{AWS_REGION}.amazonaws.com/{ECR_REPOSITORY}:{IMAGE_TAG}\"\n",
    "AGENT_RUNTIME_NAME = \"langgraph_cx_agent\"\n",
    "AGENT_RUNTIME_ROLE_ARN = f\"arn:aws:iam::{AWS_ACCOUNT_ID}:role/agentic-ai-bedrock-role\" # deployed in the prerequisite section\n",
    "USER_POOL_ID = \"\"  # TODO: Enter Cognito User Pool ID from the terraform deployment output\n",
    "CLIENT_ID = \"\"  # TODO: Enter Cognito App Client ID from the terraform deployment output\n",
    "CLIENT_SECRET = \"\"  # TODO: Enter Cognito App Client Secret from the AWS console\n",
    "\n",
    "print(f\"Account ID: {AWS_ACCOUNT_ID}\")\n",
    "print(f\"Region: {AWS_REGION}\")\n",
    "print(f\"ECR URI: {ECR_URI}\")\n",
    "print(f\"User Pool ID: {USER_POOL_ID}\")\n",
    "\n",
    "if not (USER_POOL_ID and CLIENT_ID and CLIENT_SECRET):\n",
    "    raise ValueError(\n",
    "        \"Please set USER_POOL_ID, CLIENT_ID, and CLIENT_SECRET above\"\n",
    "    )\n"
   ]
  },
  {
   "cell_type": "code",
   "execution_count": null,
   "metadata": {},
   "outputs": [],
   "source": [
    "# Create ECR repository to store your container image\n",
    "import boto3\n",
    "\n",
    "ecr_client = boto3.client('ecr', region_name=AWS_REGION)\n",
    "\n",
    "try:\n",
    "    response = ecr_client.create_repository(repositoryName=ECR_REPOSITORY)\n",
    "    print(f\"Repository created: {response['repository']['repositoryUri']}\")\n",
    "except ecr_client.exceptions.RepositoryAlreadyExistsException:\n",
    "    print(\"Repository already exists\")\n",
    "except Exception as e:\n",
    "    print(f\"Error: {e}\")"
   ]
  },
  {
   "cell_type": "code",
   "execution_count": null,
   "metadata": {},
   "outputs": [],
   "source": [
    "# Login to ECR\n",
    "!aws ecr get-login-password --region {AWS_REGION} | docker login --username AWS --password-stdin {AWS_ACCOUNT_ID}.dkr.ecr.{AWS_REGION}.amazonaws.com\n",
    "\n",
    "# Alternatively with Finch:\n",
    "#!aws ecr get-login-password --region {AWS_REGION} | finch login --username AWS --password-stdin {AWS_ACCOUNT_ID}.dkr.ecr.{AWS_REGION}.amazonaws.com"
   ]
  },
  {
   "cell_type": "code",
   "execution_count": null,
   "metadata": {},
   "outputs": [],
   "source": [
    "# Build and tag Docker image for ARM64\n",
    "!cd cx-agent-backend && docker buildx build --platform linux/arm64 -t {ECR_URI} --push .\n",
    "\n",
    "# Alternatively with Finch:\n",
    "#!cd cx-agent-backend && finch build --platform linux/arm64 -t {ECR_URI} . && finch push {ECR_URI}"
   ]
  },
  {
   "cell_type": "markdown",
   "metadata": {},
   "source": [
    "## Step 2: Create Agent Runtime"
   ]
  },
  {
   "cell_type": "code",
   "execution_count": null,
   "metadata": {},
   "outputs": [],
   "source": [
    "# Create Bedrock AgentCore client\n",
    "agentcore_client = boto3.client('bedrock-agentcore-control', region_name=AWS_REGION)\n",
    "\n",
    "# Create agent runtime\n",
    "try:\n",
    "    response = agentcore_client.create_agent_runtime(\n",
    "        agentRuntimeName=AGENT_RUNTIME_NAME,\n",
    "        agentRuntimeArtifact={\n",
    "            'containerConfiguration': {\n",
    "                'containerUri': ECR_URI\n",
    "            }\n",
    "        },\n",
    "        networkConfiguration={\"networkMode\": \"PUBLIC\"},\n",
    "        roleArn=AGENT_RUNTIME_ROLE_ARN,\n",
    "        authorizerConfiguration={\n",
    "        'customJWTAuthorizer': {\n",
    "            'discoveryUrl': f'https://cognito-idp.{AWS_REGION}.amazonaws.com/{USER_POOL_ID}/.well-known/openid-configuration',\n",
    "            'allowedClients': [\n",
    "                CLIENT_ID\n",
    "            ]\n",
    "        }\n",
    "    }\n",
    "    )\n",
    "    \n",
    "    agent_runtime_arn = response['agentRuntimeArn']\n",
    "    print(f\"Agent runtime created: {agent_runtime_arn}\")\n",
    "    \n",
    "except Exception as e:\n",
    "    print(f\"Error creating agent runtime: {e}\")\n",
    "    # If already exists, get the ARN\n",
    "    try:\n",
    "        response = agentcore_client.get_agent_runtime(agentRuntimeName=AGENT_RUNTIME_NAME)\n",
    "        agent_runtime_arn = response['agentRuntimeArn']\n",
    "        print(f\"Using existing agent runtime: {agent_runtime_arn}\")\n",
    "    except Exception as e2:\n",
    "        print(f\"Error getting agent runtime: {e2}\")\n",
    "        raise"
   ]
  },
  {
   "cell_type": "markdown",
   "metadata": {},
   "source": [
    "## Step 3: Retrieve Amazon Cognito Access Token for testing the agent"
   ]
  },
  {
   "cell_type": "code",
   "execution_count": null,
   "metadata": {},
   "outputs": [],
   "source": [
    "import getpass\n",
    "import os\n",
    "\n",
    "\n",
    "def _set_if_undefined(var: str):\n",
    "    if not os.environ.get(var):\n",
    "        os.environ[var] = getpass.getpass(f\"Please provide your {var}\")\n",
    "\n",
    "\n",
    "_set_if_undefined(\"EMAIL_USERNAME\")\n",
    "_set_if_undefined(\"TEMPORARY_PASSWORD\")\n",
    "_set_if_undefined(\"PERMANENT_PASSWORD\")"
   ]
  },
  {
   "cell_type": "code",
   "execution_count": null,
   "metadata": {},
   "outputs": [],
   "source": [
    "# Access values later in the notebook\n",
    "username = os.environ['EMAIL_USERNAME']\n",
    "temp_password = os.environ['TEMPORARY_PASSWORD']\n",
    "permanent_password = os.environ['PERMANENT_PASSWORD']"
   ]
  },
  {
   "cell_type": "code",
   "execution_count": null,
   "metadata": {},
   "outputs": [],
   "source": [
    "# Create test user\n",
    "cognito_client = boto3.client('cognito-idp', region_name=AWS_REGION)\n",
    "\n",
    "try:\n",
    "    response = cognito_client.admin_create_user(\n",
    "        UserPoolId=USER_POOL_ID,\n",
    "        Username=username,\n",
    "        TemporaryPassword=temp_password,\n",
    "        MessageAction='SUPPRESS'\n",
    "    )\n",
    "    print(f\"User created: {response['User']['Username']}\")\n",
    "except Exception as e:\n",
    "    print(f\"Error: {e}\")"
   ]
  },
  {
   "cell_type": "code",
   "execution_count": null,
   "metadata": {},
   "outputs": [],
   "source": [
    "# Set permanent password\n",
    "try:\n",
    "    response = cognito_client.admin_set_user_password(\n",
    "        UserPoolId=USER_POOL_ID,\n",
    "        Username=username,\n",
    "        Password=permanent_password,\n",
    "        Permanent=True\n",
    "    )\n",
    "    print(\"Password set successfully\")\n",
    "except Exception as e:\n",
    "    print(f\"Error: {e}\")\n"
   ]
  },
  {
   "cell_type": "code",
   "execution_count": null,
   "metadata": {},
   "outputs": [],
   "source": [
    "# Calculate SECRET_HASH and store as variable\n",
    "import hmac\n",
    "import hashlib\n",
    "import base64\n",
    "import os\n",
    "\n",
    "def calculate_secret_hash(username, client_id, client_secret):\n",
    "    message = username + client_id\n",
    "    return base64.b64encode(\n",
    "        hmac.new(\n",
    "            client_secret.encode('utf-8'),\n",
    "            message.encode('utf-8'),\n",
    "            hashlib.sha256\n",
    "        ).digest()\n",
    "    ).decode('utf-8')\n",
    "\n",
    "\n",
    "\n",
    "SECRET_HASH = calculate_secret_hash(username, CLIENT_ID, CLIENT_SECRET)"
   ]
  },
  {
   "cell_type": "code",
   "execution_count": null,
   "metadata": {},
   "outputs": [],
   "source": [
    "# Get access token\n",
    "try:\n",
    "    response = cognito_client.initiate_auth(\n",
    "        ClientId=CLIENT_ID,\n",
    "        AuthFlow='USER_PASSWORD_AUTH',\n",
    "        AuthParameters={\n",
    "            'USERNAME': username,\n",
    "            'PASSWORD': permanent_password,\n",
    "            'SECRET_HASH': SECRET_HASH\n",
    "        }\n",
    "    )\n",
    "    \n",
    "    access_token = response['AuthenticationResult']['AccessToken']\n",
    "    os.environ[\"COGNITO_TOKEN\"] = access_token\n",
    "    print(\"Access token fetched\")\n",
    "    \n",
    "except Exception as e:\n",
    "    print(f\"Error: {e}\")"
   ]
  },
  {
   "cell_type": "markdown",
   "metadata": {},
   "source": [
    "## Step 4: Invoke Agent Runtime"
   ]
  },
  {
   "cell_type": "code",
   "execution_count": null,
   "metadata": {},
   "outputs": [],
   "source": [
    "import requests\n",
    "import urllib.parse\n",
    "import json\n",
    "\n",
    "def invoke_agent(message, agent_arn, auth_token, session_id, region=AWS_REGION):\n",
    "    \"\"\"Invoke Bedrock AgentCore runtime with a message.\"\"\"\n",
    "    escaped_agent_arn = urllib.parse.quote(agent_arn, safe='')\n",
    "    url = f\"https://bedrock-agentcore.{region}.amazonaws.com/runtimes/{escaped_agent_arn}/invocations?qualifier=DEFAULT\"\n",
    "    \n",
    "    headers = {\n",
    "        \"Authorization\": f\"Bearer {auth_token}\",\n",
    "        \"Content-Type\": \"application/json\",\n",
    "        \"X-Amzn-Bedrock-AgentCore-Runtime-Session-Id\": session_id\n",
    "    }\n",
    "    \n",
    "    response = requests.post(url, headers=headers, data=json.dumps({\"input\": {\"prompt\": message, \"conversation_id\": \"12345\"}}), timeout=61)\n",
    "    \n",
    "    print(f\"Status Code: {response.status_code}\")\n",
    "    \n",
    "    if response.status_code == 200:\n",
    "        return response.json()\n",
    "    else:\n",
    "        print(f\"Error ({response.status_code}): {response.text}\")\n",
    "        return None"
   ]
  },
  {
   "cell_type": "markdown",
   "metadata": {},
   "source": [
    "## Step 5: Test Different Scenarios"
   ]
  },
  {
   "cell_type": "code",
   "execution_count": null,
   "metadata": {},
   "outputs": [],
   "source": [
    "AUTH_TOKEN = os.environ[\"COGNITO_TOKEN\"]  # (See above)\n",
    "AGENT_ARN = agent_runtime_arn\n",
    "SESSION_ID = str(uuid.uuid4())\n",
    "    \n",
    "result = invoke_agent(\"Hello, can you help me?\", AGENT_ARN, AUTH_TOKEN, SESSION_ID)\n",
    "if result:\n",
    "    print(json.dumps(result, indent=2))"
   ]
  },
  {
   "cell_type": "code",
   "execution_count": null,
   "metadata": {},
   "outputs": [],
   "source": [
    "# Test math functionality\n",
    "math_test = \"What is 25 + 17?\"\n",
    "print(f\"Testing math with: {math_test}\")\n",
    "result = invoke_agent(math_test, AGENT_ARN, AUTH_TOKEN, SESSION_ID)\n",
    "if result:\n",
    "    print(json.dumps(result, indent=2))\n",
    "print(\"\\n\" + \"=\"*50 + \"\\n\")\n",
    "\n",
    "\n",
    "result = invoke_agent(\"Add 10 to the result\", AGENT_ARN, AUTH_TOKEN, SESSION_ID)\n",
    "if result:\n",
    "    print(json.dumps(result, indent=2))\n",
    "print(\"\\n\" + \"=\"*50 + \"\\n\")"
   ]
  },
  {
   "cell_type": "markdown",
   "metadata": {},
   "source": [
    "## Step 6: Cleanup (Optional)"
   ]
  },
  {
   "cell_type": "code",
   "execution_count": null,
   "metadata": {},
   "outputs": [],
   "source": [
    "# Uncomment to delete the agent runtime\n",
    "# AGENT_RUNTIME_NAME = \"\"\n",
    "# try:\n",
    "#     agentcore_client.delete_agent_runtime(agentRuntimeId=AGENT_RUNTIME_NAME)\n",
    "#     print(f\"Agent runtime {AGENT_RUNTIME_NAME} deleted\")\n",
    "# except Exception as e:\n",
    "#     print(f\"Error deleting agent runtime: {e}\")"
   ]
  }
 ],
 "metadata": {
  "kernelspec": {
   "display_name": ".venv",
   "language": "python",
   "name": "python3"
  },
  "language_info": {
   "codemirror_mode": {
    "name": "ipython",
    "version": 3
   },
   "file_extension": ".py",
   "mimetype": "text/x-python",
   "name": "python",
   "nbconvert_exporter": "python",
   "pygments_lexer": "ipython3",
   "version": "3.12.8"
  }
 },
 "nbformat": 4,
 "nbformat_minor": 4
}
